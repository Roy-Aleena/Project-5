{
 "cells": [
  {
   "cell_type": "code",
   "execution_count": 1,
   "metadata": {},
   "outputs": [],
   "source": [
    "#Implementing Euclidean and Manhattan Distance Functions\n",
    "import numpy as np\n",
    "from sklearn.datasets import make_classification\n",
    "from sklearn.neighbors import NearestNeighbors\n",
    "from scipy.stats import mode\n",
    "import matplotlib.pyplot as plt\n",
    "\n",
    "# Euclidean Distance Function\n",
    "def euclidean_dist(data1, data2):\n",
    "    '''\n",
    "    Compute Euclidean distance between two points (data1 and data2).\n",
    "    '''\n",
    "    return np.sqrt(np.sum((data1 - data2) ** 2))\n",
    "\n",
    "# Manhattan Distance Function\n",
    "def manhattan(data1, data2):\n",
    "    '''\n",
    "    Compute Manhattan distance between two points (data1 and data2).\n",
    "    '''\n",
    "    return np.sum(np.abs(data1 - data2))\n"
   ]
  },
  {
   "cell_type": "code",
   "execution_count": 2,
   "metadata": {},
   "outputs": [
    {
     "name": "stdout",
     "output_type": "stream",
     "text": [
      "Distances to the 10 nearest neighbors: [[0.32722708 0.3733589  0.3769871  0.68717511 0.69928648 0.76722542\n",
      "  0.81294259 0.84106691 0.87534122 0.94587287]]\n",
      "Target values of the nearest neighbors: [[1 1 1 0 1 1 1 0 0 1]]\n",
      "Predicted target value for X_test: 1\n"
     ]
    },
    {
     "name": "stderr",
     "output_type": "stream",
     "text": [
      "C:\\Users\\Aleena\\AppData\\Local\\Temp\\ipykernel_180\\2338993821.py:23: FutureWarning: Unlike other reduction functions (e.g. `skew`, `kurtosis`), the default behavior of `mode` typically preserves the axis it acts along. In SciPy 1.11.0, this behavior will change: the default value of `keepdims` will become False, the `axis` over which the statistic is taken will be eliminated, and the value None will no longer be accepted. Set `keepdims` to True or False to avoid this warning.\n",
      "  predicted_target = mode(nearest_targets, axis=None).mode[0]\n"
     ]
    }
   ],
   "source": [
    "#Creating Sample Data and KNN Prediction Using Euclidean Distance\n",
    "# Create sample data (50 samples, 2 features, binary classification)\n",
    "X_train, y_train = make_classification(n_samples=50, n_features=2, n_informative=2, \n",
    "                                       n_redundant=0, n_classes=2)\n",
    "\n",
    "# Test data point\n",
    "X_test = np.array([[0.5, 0.5]])  # You can modify this with your own X_test data\n",
    "\n",
    "# Compute k-nearest neighbors using Euclidean distance\n",
    "k = 10  # Number of neighbors\n",
    "neighbors = NearestNeighbors(n_neighbors=k, metric='euclidean')\n",
    "neighbors.fit(X_train)\n",
    "distances, indices = neighbors.kneighbors(X_test)\n",
    "\n",
    "# Print distances to each neighbor\n",
    "print(\"Distances to the 10 nearest neighbors:\", distances)\n",
    "\n",
    "# Get the target values of the nearest neighbors\n",
    "nearest_targets = y_train[indices]\n",
    "print(\"Target values of the nearest neighbors:\", nearest_targets)\n",
    "\n",
    "# Majority voting to predict the target for X_test\n",
    "predicted_target = mode(nearest_targets, axis=None).mode[0]\n",
    "print(\"Predicted target value for X_test:\", predicted_target)\n"
   ]
  },
  {
   "cell_type": "code",
   "execution_count": 3,
   "metadata": {},
   "outputs": [
    {
     "name": "stderr",
     "output_type": "stream",
     "text": [
      "C:\\Users\\Aleena\\AppData\\Local\\Temp\\ipykernel_180\\2054400117.py:11: FutureWarning: Unlike other reduction functions (e.g. `skew`, `kurtosis`), the default behavior of `mode` typically preserves the axis it acts along. In SciPy 1.11.0, this behavior will change: the default value of `keepdims` will become False, the `axis` over which the statistic is taken will be eliminated, and the value None will no longer be accepted. Set `keepdims` to True or False to avoid this warning.\n",
      "  predicted_target = mode(nearest_targets, axis=None).mode[0]\n",
      "C:\\Users\\Aleena\\AppData\\Local\\Temp\\ipykernel_180\\2054400117.py:11: FutureWarning: Unlike other reduction functions (e.g. `skew`, `kurtosis`), the default behavior of `mode` typically preserves the axis it acts along. In SciPy 1.11.0, this behavior will change: the default value of `keepdims` will become False, the `axis` over which the statistic is taken will be eliminated, and the value None will no longer be accepted. Set `keepdims` to True or False to avoid this warning.\n",
      "  predicted_target = mode(nearest_targets, axis=None).mode[0]\n",
      "C:\\Users\\Aleena\\AppData\\Local\\Temp\\ipykernel_180\\2054400117.py:11: FutureWarning: Unlike other reduction functions (e.g. `skew`, `kurtosis`), the default behavior of `mode` typically preserves the axis it acts along. In SciPy 1.11.0, this behavior will change: the default value of `keepdims` will become False, the `axis` over which the statistic is taken will be eliminated, and the value None will no longer be accepted. Set `keepdims` to True or False to avoid this warning.\n",
      "  predicted_target = mode(nearest_targets, axis=None).mode[0]\n",
      "C:\\Users\\Aleena\\AppData\\Local\\Temp\\ipykernel_180\\2054400117.py:11: FutureWarning: Unlike other reduction functions (e.g. `skew`, `kurtosis`), the default behavior of `mode` typically preserves the axis it acts along. In SciPy 1.11.0, this behavior will change: the default value of `keepdims` will become False, the `axis` over which the statistic is taken will be eliminated, and the value None will no longer be accepted. Set `keepdims` to True or False to avoid this warning.\n",
      "  predicted_target = mode(nearest_targets, axis=None).mode[0]\n",
      "C:\\Users\\Aleena\\AppData\\Local\\Temp\\ipykernel_180\\2054400117.py:11: FutureWarning: Unlike other reduction functions (e.g. `skew`, `kurtosis`), the default behavior of `mode` typically preserves the axis it acts along. In SciPy 1.11.0, this behavior will change: the default value of `keepdims` will become False, the `axis` over which the statistic is taken will be eliminated, and the value None will no longer be accepted. Set `keepdims` to True or False to avoid this warning.\n",
      "  predicted_target = mode(nearest_targets, axis=None).mode[0]\n",
      "C:\\Users\\Aleena\\AppData\\Local\\Temp\\ipykernel_180\\2054400117.py:11: FutureWarning: Unlike other reduction functions (e.g. `skew`, `kurtosis`), the default behavior of `mode` typically preserves the axis it acts along. In SciPy 1.11.0, this behavior will change: the default value of `keepdims` will become False, the `axis` over which the statistic is taken will be eliminated, and the value None will no longer be accepted. Set `keepdims` to True or False to avoid this warning.\n",
      "  predicted_target = mode(nearest_targets, axis=None).mode[0]\n",
      "C:\\Users\\Aleena\\AppData\\Local\\Temp\\ipykernel_180\\2054400117.py:11: FutureWarning: Unlike other reduction functions (e.g. `skew`, `kurtosis`), the default behavior of `mode` typically preserves the axis it acts along. In SciPy 1.11.0, this behavior will change: the default value of `keepdims` will become False, the `axis` over which the statistic is taken will be eliminated, and the value None will no longer be accepted. Set `keepdims` to True or False to avoid this warning.\n",
      "  predicted_target = mode(nearest_targets, axis=None).mode[0]\n",
      "C:\\Users\\Aleena\\AppData\\Local\\Temp\\ipykernel_180\\2054400117.py:11: FutureWarning: Unlike other reduction functions (e.g. `skew`, `kurtosis`), the default behavior of `mode` typically preserves the axis it acts along. In SciPy 1.11.0, this behavior will change: the default value of `keepdims` will become False, the `axis` over which the statistic is taken will be eliminated, and the value None will no longer be accepted. Set `keepdims` to True or False to avoid this warning.\n",
      "  predicted_target = mode(nearest_targets, axis=None).mode[0]\n",
      "C:\\Users\\Aleena\\AppData\\Local\\Temp\\ipykernel_180\\2054400117.py:11: FutureWarning: Unlike other reduction functions (e.g. `skew`, `kurtosis`), the default behavior of `mode` typically preserves the axis it acts along. In SciPy 1.11.0, this behavior will change: the default value of `keepdims` will become False, the `axis` over which the statistic is taken will be eliminated, and the value None will no longer be accepted. Set `keepdims` to True or False to avoid this warning.\n",
      "  predicted_target = mode(nearest_targets, axis=None).mode[0]\n",
      "C:\\Users\\Aleena\\AppData\\Local\\Temp\\ipykernel_180\\2054400117.py:11: FutureWarning: Unlike other reduction functions (e.g. `skew`, `kurtosis`), the default behavior of `mode` typically preserves the axis it acts along. In SciPy 1.11.0, this behavior will change: the default value of `keepdims` will become False, the `axis` over which the statistic is taken will be eliminated, and the value None will no longer be accepted. Set `keepdims` to True or False to avoid this warning.\n",
      "  predicted_target = mode(nearest_targets, axis=None).mode[0]\n",
      "C:\\Users\\Aleena\\AppData\\Local\\Temp\\ipykernel_180\\2054400117.py:11: FutureWarning: Unlike other reduction functions (e.g. `skew`, `kurtosis`), the default behavior of `mode` typically preserves the axis it acts along. In SciPy 1.11.0, this behavior will change: the default value of `keepdims` will become False, the `axis` over which the statistic is taken will be eliminated, and the value None will no longer be accepted. Set `keepdims` to True or False to avoid this warning.\n",
      "  predicted_target = mode(nearest_targets, axis=None).mode[0]\n",
      "C:\\Users\\Aleena\\AppData\\Local\\Temp\\ipykernel_180\\2054400117.py:11: FutureWarning: Unlike other reduction functions (e.g. `skew`, `kurtosis`), the default behavior of `mode` typically preserves the axis it acts along. In SciPy 1.11.0, this behavior will change: the default value of `keepdims` will become False, the `axis` over which the statistic is taken will be eliminated, and the value None will no longer be accepted. Set `keepdims` to True or False to avoid this warning.\n",
      "  predicted_target = mode(nearest_targets, axis=None).mode[0]\n",
      "C:\\Users\\Aleena\\AppData\\Local\\Temp\\ipykernel_180\\2054400117.py:11: FutureWarning: Unlike other reduction functions (e.g. `skew`, `kurtosis`), the default behavior of `mode` typically preserves the axis it acts along. In SciPy 1.11.0, this behavior will change: the default value of `keepdims` will become False, the `axis` over which the statistic is taken will be eliminated, and the value None will no longer be accepted. Set `keepdims` to True or False to avoid this warning.\n",
      "  predicted_target = mode(nearest_targets, axis=None).mode[0]\n",
      "C:\\Users\\Aleena\\AppData\\Local\\Temp\\ipykernel_180\\2054400117.py:11: FutureWarning: Unlike other reduction functions (e.g. `skew`, `kurtosis`), the default behavior of `mode` typically preserves the axis it acts along. In SciPy 1.11.0, this behavior will change: the default value of `keepdims` will become False, the `axis` over which the statistic is taken will be eliminated, and the value None will no longer be accepted. Set `keepdims` to True or False to avoid this warning.\n",
      "  predicted_target = mode(nearest_targets, axis=None).mode[0]\n",
      "C:\\Users\\Aleena\\AppData\\Local\\Temp\\ipykernel_180\\2054400117.py:11: FutureWarning: Unlike other reduction functions (e.g. `skew`, `kurtosis`), the default behavior of `mode` typically preserves the axis it acts along. In SciPy 1.11.0, this behavior will change: the default value of `keepdims` will become False, the `axis` over which the statistic is taken will be eliminated, and the value None will no longer be accepted. Set `keepdims` to True or False to avoid this warning.\n",
      "  predicted_target = mode(nearest_targets, axis=None).mode[0]\n",
      "C:\\Users\\Aleena\\AppData\\Local\\Temp\\ipykernel_180\\2054400117.py:11: FutureWarning: Unlike other reduction functions (e.g. `skew`, `kurtosis`), the default behavior of `mode` typically preserves the axis it acts along. In SciPy 1.11.0, this behavior will change: the default value of `keepdims` will become False, the `axis` over which the statistic is taken will be eliminated, and the value None will no longer be accepted. Set `keepdims` to True or False to avoid this warning.\n",
      "  predicted_target = mode(nearest_targets, axis=None).mode[0]\n",
      "C:\\Users\\Aleena\\AppData\\Local\\Temp\\ipykernel_180\\2054400117.py:11: FutureWarning: Unlike other reduction functions (e.g. `skew`, `kurtosis`), the default behavior of `mode` typically preserves the axis it acts along. In SciPy 1.11.0, this behavior will change: the default value of `keepdims` will become False, the `axis` over which the statistic is taken will be eliminated, and the value None will no longer be accepted. Set `keepdims` to True or False to avoid this warning.\n",
      "  predicted_target = mode(nearest_targets, axis=None).mode[0]\n",
      "C:\\Users\\Aleena\\AppData\\Local\\Temp\\ipykernel_180\\2054400117.py:11: FutureWarning: Unlike other reduction functions (e.g. `skew`, `kurtosis`), the default behavior of `mode` typically preserves the axis it acts along. In SciPy 1.11.0, this behavior will change: the default value of `keepdims` will become False, the `axis` over which the statistic is taken will be eliminated, and the value None will no longer be accepted. Set `keepdims` to True or False to avoid this warning.\n",
      "  predicted_target = mode(nearest_targets, axis=None).mode[0]\n",
      "C:\\Users\\Aleena\\AppData\\Local\\Temp\\ipykernel_180\\2054400117.py:11: FutureWarning: Unlike other reduction functions (e.g. `skew`, `kurtosis`), the default behavior of `mode` typically preserves the axis it acts along. In SciPy 1.11.0, this behavior will change: the default value of `keepdims` will become False, the `axis` over which the statistic is taken will be eliminated, and the value None will no longer be accepted. Set `keepdims` to True or False to avoid this warning.\n",
      "  predicted_target = mode(nearest_targets, axis=None).mode[0]\n",
      "C:\\Users\\Aleena\\AppData\\Local\\Temp\\ipykernel_180\\2054400117.py:11: FutureWarning: Unlike other reduction functions (e.g. `skew`, `kurtosis`), the default behavior of `mode` typically preserves the axis it acts along. In SciPy 1.11.0, this behavior will change: the default value of `keepdims` will become False, the `axis` over which the statistic is taken will be eliminated, and the value None will no longer be accepted. Set `keepdims` to True or False to avoid this warning.\n",
      "  predicted_target = mode(nearest_targets, axis=None).mode[0]\n"
     ]
    },
    {
     "data": {
      "image/png": "[encoded data removed]",
      "text/plain": [
       "<Figure size 432x288 with 1 Axes>"
      ]
     },
     "metadata": {
      "needs_background": "light"
     },
     "output_type": "display_data"
    }
   ],
   "source": [
    "#Plot Accuracy vs Number of Neighbor\n",
    "# Varying the number of neighbors from 1 to 20\n",
    "neighbors_range = range(1, 21)\n",
    "accuracies = []\n",
    "\n",
    "for k in neighbors_range:\n",
    "    model = NearestNeighbors(n_neighbors=k, metric='euclidean')\n",
    "    model.fit(X_train)\n",
    "    distances, indices = model.kneighbors(X_train)\n",
    "    nearest_targets = y_train[indices]\n",
    "    predicted_target = mode(nearest_targets, axis=None).mode[0]\n",
    "    \n",
    "    accuracies.append(np.mean(predicted_target == y_train))\n",
    "\n",
    "# Plot the accuracy vs. number of neighbors\n",
    "plt.plot(neighbors_range, accuracies)\n",
    "plt.xlabel('Number of Neighbors (k)')\n",
    "plt.ylabel('Accuracy')\n",
    "plt.title('Accuracy vs Number of Neighbors (Euclidean Distance)')\n",
    "plt.show()\n"
   ]
  },
  {
   "cell_type": "code",
   "execution_count": 4,
   "metadata": {},
   "outputs": [
    {
     "name": "stdout",
     "output_type": "stream",
     "text": [
      "Distances to the 10 nearest neighbors (Manhattan): [[0.42664615 0.43631203 0.52693927 0.79625799 0.90137034 0.91486794\n",
      "  0.9782299  1.02358678 1.02484724 1.05684106 1.13194678 1.25524984\n",
      "  1.34984574 1.37279159 1.38898293 1.40238263 1.450842   1.51774491\n",
      "  1.56117045 1.58097353]]\n",
      "Target values of the nearest neighbors: [[1 1 1 1 0 0 1 1 0 1 1 1 0 1 1 0 1 1 0 1]]\n"
     ]
    }
   ],
   "source": [
    "# Use Manhattan distance for k-nearest neighbors\n",
    "model = NearestNeighbors(n_neighbors=k, metric='manhattan')\n",
    "model.fit(X_train)\n",
    "distances, indices = model.kneighbors(X_test)\n",
    "\n",
    "# Print distances and targets\n",
    "print(\"Distances to the 10 nearest neighbors (Manhattan):\", distances)\n",
    "nearest_targets = y_train[indices]\n",
    "print(\"Target values of the nearest neighbors:\", nearest_targets)\n"
   ]
  },
  {
   "cell_type": "code",
   "execution_count": 5,
   "metadata": {},
   "outputs": [],
   "source": [
    "#Creating Bootstrap Samples and Training Decision Trees\n",
    "import numpy as np\n",
    "from sklearn.datasets import load_iris\n",
    "from sklearn.tree import DecisionTreeClassifier\n",
    "from sklearn.model_selection import train_test_split\n",
    "\n",
    "# Load dataset\n",
    "data = load_iris()\n",
    "X, y = data.data, data.target\n",
    "\n",
    "# Split data into training and test sets\n",
    "X_train, X_test, y_train, y_test = train_test_split(X, y, test_size=0.3)\n",
    "\n",
    "# Define sample size (20% of training data length)\n",
    "sample_size = int(0.2 * len(X_train))\n",
    "\n",
    "# Store each trained model\n",
    "list_models = []\n",
    "\n",
    "# Number of decision trees\n",
    "no_classifiers = 10\n",
    "\n",
    "# Train each model on a bootstrap sample\n",
    "for _ in range(no_classifiers):\n",
    "    # Create a bootstrap sample (sample with replacement)\n",
    "    indices = np.random.choice(len(X_train), size=sample_size, replace=True)\n",
    "    X_sample, y_sample = X_train[indices], y_train[indices]\n",
    "    \n",
    "    # Train a decision tree\n",
    "    model = DecisionTreeClassifier()\n",
    "    model.fit(X_sample, y_sample)\n",
    "    \n",
    "    # Store the model\n",
    "    list_models.append(model)\n"
   ]
  },
  {
   "cell_type": "code",
   "execution_count": 6,
   "metadata": {},
   "outputs": [
    {
     "name": "stdout",
     "output_type": "stream",
     "text": [
      "Final predictions: [2. 0. 0. 2. 1. 2. 2. 1. 0. 0. 1. 1. 0. 1. 2. 2. 0. 1. 0. 0. 2. 2. 1. 0.\n",
      " 2. 0. 1. 2. 2. 2. 1. 2. 2. 2. 2. 2. 2. 2. 0. 2. 0. 0. 0. 2. 0.]\n"
     ]
    }
   ],
   "source": [
    "# Majority voting for final predictions\n",
    "final_predictions = np.zeros(len(X_test))\n",
    "\n",
    "for model in list_models:\n",
    "    final_predictions += model.predict(X_test)\n",
    "\n",
    "# Majority vote\n",
    "final_predictions = np.round(final_predictions / no_classifiers)\n",
    "\n",
    "# Print final predictions\n",
    "print(\"Final predictions:\", final_predictions)\n"
   ]
  },
  {
   "cell_type": "code",
   "execution_count": 7,
   "metadata": {},
   "outputs": [
    {
     "data": {
      "image/png": "[encoded data removed]",
      "text/plain": [
       "<Figure size 432x288 with 1 Axes>"
      ]
     },
     "metadata": {
      "needs_background": "light"
     },
     "output_type": "display_data"
    }
   ],
   "source": [
    "#Plot Accuracy vs Number of Classifiers\n",
    "accuracies = []\n",
    "classifiers_range = range(1, 21)\n",
    "\n",
    "for num_classifiers in classifiers_range:\n",
    "    list_models = []\n",
    "    \n",
    "    for _ in range(num_classifiers):\n",
    "        indices = np.random.choice(len(X_train), size=sample_size, replace=True)\n",
    "        X_sample, y_sample = X_train[indices], y_train[indices]\n",
    "        model = DecisionTreeClassifier()\n",
    "        model.fit(X_sample, y_sample)\n",
    "        list_models.append(model)\n",
    "    \n",
    "    final_predictions = np.zeros(len(X_test))\n",
    "    for model in list_models:\n",
    "        final_predictions += model.predict(X_test)\n",
    "    final_predictions = np.round(final_predictions / num_classifiers)\n",
    "    \n",
    "    accuracy = np.mean(final_predictions == y_test)\n",
    "    accuracies.append(accuracy)\n",
    "\n",
    "# Plot the accuracy vs number of classifiers\n",
    "plt.plot(classifiers_range, accuracies)\n",
    "plt.xlabel('Number of Classifiers')\n",
    "plt.ylabel('Accuracy')\n",
    "plt.title('Accuracy vs Number of Classifiers (Bagging)')\n",
    "plt.show()\n"
   ]
  },
  {
   "cell_type": "code",
   "execution_count": 27,
   "metadata": {},
   "outputs": [
    {
     "name": "stdout",
     "output_type": "stream",
     "text": [
      "Decision Tree for iteration 1:\n",
      "|--- feature_0 <= 0.67\n",
      "|   |--- feature_0 <= 0.41\n",
      "|   |   |--- feature_0 <= 0.24\n",
      "|   |   |   |--- value: [-0.29]\n",
      "|   |   |--- feature_0 >  0.24\n",
      "|   |   |   |--- value: [-0.19]\n",
      "|   |--- feature_0 >  0.41\n",
      "|   |   |--- feature_0 <= 0.52\n",
      "|   |   |   |--- value: [-0.08]\n",
      "|   |   |--- feature_0 >  0.52\n",
      "|   |   |   |--- value: [0.01]\n",
      "|--- feature_0 >  0.67\n",
      "|   |--- feature_0 <= 0.85\n",
      "|   |   |--- feature_0 <= 0.73\n",
      "|   |   |   |--- value: [0.21]\n",
      "|   |   |--- feature_0 >  0.73\n",
      "|   |   |   |--- value: [0.32]\n",
      "|   |--- feature_0 >  0.85\n",
      "|   |   |--- feature_0 <= 0.92\n",
      "|   |   |   |--- value: [0.45]\n",
      "|   |   |--- feature_0 >  0.92\n",
      "|   |   |   |--- value: [0.57]\n",
      "\n",
      "Ensemble prediction after 1 iterations (first 5 predictions): [[0.12297213]\n",
      " [0.76366738]\n",
      " [0.22710799]\n",
      " [0.88378928]\n",
      " [0.22710799]]\n",
      "Decision Tree for iteration 2:\n",
      "|--- feature_0 <= 0.98\n",
      "|   |--- feature_0 <= 0.97\n",
      "|   |   |--- feature_0 <= 0.08\n",
      "|   |   |   |--- value: [0.35]\n",
      "|   |   |--- feature_0 >  0.08\n",
      "|   |   |   |--- value: [0.31]\n",
      "|   |--- feature_0 >  0.97\n",
      "|   |   |--- value: [0.49]\n",
      "|--- feature_0 >  0.98\n",
      "|   |--- feature_0 <= 0.98\n",
      "|   |   |--- value: [0.15]\n",
      "|   |--- feature_0 >  0.98\n",
      "|   |   |--- value: [0.29]\n",
      "\n",
      "Ensemble prediction after 2 iterations (first 5 predictions): [[0.43069399]\n",
      " [1.07138924]\n",
      " [0.53482986]\n",
      " [1.372938  ]\n",
      " [0.53482986]]\n"
     ]
    }
   ],
   "source": [
    "import numpy as np\n",
    "from sklearn.tree import DecisionTreeRegressor\n",
    "from sklearn.tree import export_text\n",
    "\n",
    "# Example synthetic data\n",
    "X_train = np.random.rand(100, 1)  # 100 data points, 1 feature\n",
    "y_train = X_train ** 2 + np.random.normal(0, 0.1, (100, 1))  # Quadratic relationship with noise\n",
    "\n",
    "# Initialize the first weak classifier (h_0 is the mean of y_train)\n",
    "h_0 = np.mean(y_train)\n",
    "H_0 = [h_0]  # Ensemble starts with the mean as the first weak learner\n",
    "\n",
    "# Number of iterations (T)\n",
    "T = 3  # For simplicity, using 3 iterations of boosting\n",
    "\n",
    "for t in range(1, T):\n",
    "    # Step 1: Compute the predictions of the ensemble at step t-1 (current ensemble prediction)\n",
    "    # Create a (100, 1) array filled with the scalar H_0[-1] (mean value)\n",
    "    y_pred_t_minus_1 = np.full((y_train.shape[0], 1), H_0[-1], dtype=np.float64)  # Creating (100, 1) array\n",
    "    \n",
    "    # Step 2: Compute residuals (difference between true values and predicted values)\n",
    "    residuals = y_train - y_pred_t_minus_1\n",
    "    \n",
    "    # Step 3: Train a new weak classifier (a decision tree regressor) on the residuals\n",
    "    tree = DecisionTreeRegressor(max_depth=3)  # Weak tree with a maximum depth of 3\n",
    "    tree.fit(X_train, residuals)\n",
    "    h_t = tree.predict(X_train)  # Predictions of the new weak learner\n",
    "    \n",
    "    # Reshape h_t to match the shape of residuals (100, 1)\n",
    "    h_t = h_t.reshape(-1, 1)\n",
    "    \n",
    "    # Step 4: Add the new weak classifier to the ensemble\n",
    "    H_0.append(h_t)\n",
    "    \n",
    "    # Step 5: Visualize the tree (optional, useful for debugging or analysis)\n",
    "    print(f\"Decision Tree for iteration {t}:\")\n",
    "    print(export_text(tree))\n",
    "    \n",
    "    # Step 6: Compute the new ensemble prediction by summing all weak learners\n",
    "    y_pred_final = np.sum(H_0[1:], axis=0) + H_0[0]  # Summing all weak learners' predictions (excluding h_0)\n",
    "    \n",
    "    # Step 7: Show the final predictions (for this iteration)\n",
    "    print(f\"Ensemble prediction after {t} iterations (first 5 predictions): {y_pred_final[:5]}\")\n"
   ]
  }
 ],
 "metadata": {
  "kernelspec": {
   "display_name": "Python 3",
   "language": "python",
   "name": "python3"
  },
  "language_info": {
   "codemirror_mode": {
    "name": "ipython",
    "version": 3
   },
   "file_extension": ".py",
   "mimetype": "text/x-python",
   "name": "python",
   "nbconvert_exporter": "python",
   "pygments_lexer": "ipython3",
   "version": "3.10.0"
  }
 },
 "nbformat": 4,
 "nbformat_minor": 2
}
